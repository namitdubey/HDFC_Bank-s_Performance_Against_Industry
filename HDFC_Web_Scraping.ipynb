{
 "cells": [
  {
   "cell_type": "markdown",
   "id": "eaaa377f-54b3-439f-afcf-c3c63e189734",
   "metadata": {},
   "source": [
    "### Web Scraping "
   ]
  },
  {
   "cell_type": "markdown",
   "id": "0c8b9c82-6dd5-4aa1-835a-d8100bca1eb3",
   "metadata": {},
   "source": [
    "#### Scraping the data from the website of RBI from April-22 to March-23"
   ]
  },
  {
   "cell_type": "code",
   "execution_count": 7,
   "id": "7d8c628e-ff4d-429f-900e-43298c6498c4",
   "metadata": {},
   "outputs": [],
   "source": [
    "# Importing necessary packages\n",
    "\n",
    "from selenium import webdriver\n",
    "from selenium.webdriver.chrome.service import Service as ChromeService\n",
    "from selenium.webdriver.common.by import By\n",
    "from selenium.webdriver.support.ui import WebDriverWait\n",
    "from selenium.webdriver.support import expected_conditions as EC\n",
    "import os\n",
    "import requests"
   ]
  },
  {
   "cell_type": "code",
   "execution_count": 9,
   "id": "c8b38b6b-ef13-4738-a70e-7573af01d9da",
   "metadata": {},
   "outputs": [],
   "source": [
    "chrome_driver =  r'C:\\Users\\Namit Dubey\\Desktop\\chromedriver-win64\\chromedriver-win64\\chromedriver.exe'    #Chrome Driver Location\n",
    "\n",
    "s = ChromeService(chrome_driver)\n",
    "chrome = webdriver.Chrome(service = s) #Initialize chromedriver\n",
    "\n",
    "directory = 'ATM_ALL_BANKS_RBI'\n",
    "if not os.path.exists(directory):\n",
    "    os.makedirs(directory)    #Creating a folder to download files\n"
   ]
  },
  {
   "cell_type": "code",
   "execution_count": 13,
   "id": "2b9f8054-a2d8-4e93-a71c-ebde09bbe94b",
   "metadata": {},
   "outputs": [],
   "source": [
    "for year in range(2022, 2024):     #looping through the years from 2022 to 2024\n",
    "\n",
    "    url = 'https://www.rbi.org.in/Scripts/ATMView.aspx#'    # RBI website to get data\n",
    "    \n",
    "    chrome.get(url)    #Opening a new chrome window\n",
    "    \n",
    "    wait = WebDriverWait(chrome, 70)    #Delay for loading the webpage \n",
    "\n",
    "    year_button = wait.until(EC.element_to_be_clickable((By.ID, f'btn{year}')))\n",
    "\n",
    "    year_button.click()    #opening the year side\n",
    "\n",
    "    start_month = 4 if year == 2022 else 1\n",
    "    end_month = 13 if year == 2022 else 4    #range of months as per year\n",
    "\n",
    "    for month in range(start_month, end_month):    #looping through months on the webpage\n",
    "        \n",
    "        month_link_id = f'{year}{month}'\n",
    "        month_link = wait.until(EC.presence_of_element_located((By.ID, month_link_id)))\n",
    "\n",
    "        chrome.execute_script('arguments[0].click();', month_link)    #clicking the months\n",
    "        \n",
    "        download = wait.until(EC.element_to_be_clickable((By.CSS_SELECTOR, 'a[href$=\".XLSX\"]')))\n",
    "        download_url = download.get_attribute('href')    #searching the download link using the href attribute\n",
    "\n",
    "        output = requests.get(download_url)\n",
    "        file_path = os.path.join(directory, f'{month:02d}_{year:0d}.xlsx')    #downloading the file\n",
    "\n",
    "        with open(file_path, 'wb') as file:\n",
    "            file.write(output.content)\n",
    "\n",
    "\n"
   ]
  },
  {
   "cell_type": "code",
   "execution_count": null,
   "id": "cd737610",
   "metadata": {},
   "outputs": [],
   "source": []
  }
 ],
 "metadata": {
  "kernelspec": {
   "display_name": "Python 3 (ipykernel)",
   "language": "python",
   "name": "python3"
  },
  "language_info": {
   "codemirror_mode": {
    "name": "ipython",
    "version": 3
   },
   "file_extension": ".py",
   "mimetype": "text/x-python",
   "name": "python",
   "nbconvert_exporter": "python",
   "pygments_lexer": "ipython3",
   "version": "3.12.1"
  }
 },
 "nbformat": 4,
 "nbformat_minor": 5
}
